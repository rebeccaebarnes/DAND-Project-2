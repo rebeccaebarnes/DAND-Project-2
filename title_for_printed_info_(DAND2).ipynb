{
 "cells": [
  {
   "cell_type": "markdown",
   "metadata": {},
   "source": [
    "Change `get_city()` to return city name and file name"
   ]
  },
  {
   "cell_type": "code",
   "execution_count": 4,
   "metadata": {},
   "outputs": [],
   "source": [
    "def get_city():\n",
    "    '''Asks the user for one of three cities and returns the city name and filename for \n",
    "       that city's bike share data.\n",
    "\n",
    "    Args:\n",
    "        none.\n",
    "    Returns:\n",
    "        (str) lowercase name of city, (str) filename for a city's bikeshare data from input.\n",
    "    '''\n",
    "    # Ask user for input while managing incorrect input\n",
    "    while True:\n",
    "        city = input('\\nHello! Let\\'s explore some US bikeshare data!\\n'\n",
    "                     'Would you like to see data for Chicago, New York, or Washington?\\n')\n",
    "        # Confirm if input string is one of the listed cities and ask again if not\n",
    "        if city.lower() not in ('chicago', 'new york', 'washington'):\n",
    "            print('\\nYou didn\\'t enter the correct input. Please enter one of the cities listed.\\n'\n",
    "                  'Returning you to the original input request:')\n",
    "        else:\n",
    "            break\n",
    "    # Use the input to select a filename\n",
    "    city = city.lower()\n",
    "    if city == 'chicago':\n",
    "        file = 'chicago.csv'\n",
    "    elif city == 'new york':\n",
    "        file =  'new_york_city.csv'\n",
    "    else:\n",
    "        file = 'washington.csv'\n",
    "    return city, file"
   ]
  },
  {
   "cell_type": "markdown",
   "metadata": {},
   "source": [
    "Update statistics to manage the new get_city func. That is, manage the tuple returned to city to be passed into ln 665 by passing in `city[1]`."
   ]
  },
  {
   "cell_type": "code",
   "execution_count": 5,
   "metadata": {},
   "outputs": [],
   "source": [
    "city = ('chicago', 'chicago.csv')"
   ]
  },
  {
   "cell_type": "code",
   "execution_count": 6,
   "metadata": {},
   "outputs": [
    {
     "name": "stdout",
     "output_type": "stream",
     "text": [
      "chicago.csv\n"
     ]
    }
   ],
   "source": [
    "print(city[1])"
   ]
  },
  {
   "cell_type": "markdown",
   "metadata": {},
   "source": [
    "This allows me to use the city name in city to update the printed information to  report which city's data is being presented."
   ]
  },
  {
   "cell_type": "code",
   "execution_count": 10,
   "metadata": {},
   "outputs": [
    {
     "name": "stdout",
     "output_type": "stream",
     "text": [
      "--- Printing US Bikeshare Statistics for Chicago ---\n"
     ]
    }
   ],
   "source": [
    "print('\\n--- Printing US Bikeshare Statistics for', city[0].title(), '---')"
   ]
  },
  {
   "cell_type": "markdown",
   "metadata": {},
   "source": [
    "Then, I also want to present data on what filters were selected. If no filters were selected:"
   ]
  },
  {
   "cell_type": "code",
   "execution_count": 14,
   "metadata": {},
   "outputs": [
    {
     "name": "stdout",
     "output_type": "stream",
     "text": [
      "--- Printing US Bikeshare Statistics for Chicago ---\n",
      "    (Full city data provided)\n"
     ]
    }
   ],
   "source": [
    "print('\\n--- Printing US Bikeshare Statistics for', city[0].title(), '---\\n'\n",
    "      '    (Full city data provided)')"
   ]
  },
  {
   "cell_type": "markdown",
   "metadata": {},
   "source": [
    "For month filter selected:"
   ]
  },
  {
   "cell_type": "code",
   "execution_count": 21,
   "metadata": {},
   "outputs": [],
   "source": [
    "selected_month = 'January'"
   ]
  },
  {
   "cell_type": "code",
   "execution_count": 23,
   "metadata": {},
   "outputs": [
    {
     "name": "stdout",
     "output_type": "stream",
     "text": [
      "--- Printing US Bikeshare Statistics for Chicago ---\n",
      "    (Data for January provided)\n"
     ]
    }
   ],
   "source": [
    "print('\\n--- Printing US Bikeshare Statistics for', city[0].title(), '---\\n'\n",
    "      '    (Data for', selected_month,'provided)')"
   ]
  },
  {
   "cell_type": "markdown",
   "metadata": {},
   "source": [
    "For day filter selected:"
   ]
  },
  {
   "cell_type": "code",
   "execution_count": 26,
   "metadata": {},
   "outputs": [],
   "source": [
    "from calendar import day_name"
   ]
  },
  {
   "cell_type": "code",
   "execution_count": 24,
   "metadata": {},
   "outputs": [],
   "source": [
    "selected_day = 1"
   ]
  },
  {
   "cell_type": "code",
   "execution_count": 27,
   "metadata": {},
   "outputs": [
    {
     "name": "stdout",
     "output_type": "stream",
     "text": [
      "--- Printing US Bikeshare Statistics for Chicago ---\n",
      "    (Data for all Tuesdays provided)\n"
     ]
    }
   ],
   "source": [
    "print('\\n--- Printing US Bikeshare Statistics for', city[0].title(), '---\\n'\n",
    "      '    (Data for all {}s provided)'.format(day_name[selected_day]))"
   ]
  },
  {
   "cell_type": "markdown",
   "metadata": {},
   "source": [
    "For both filter selected:"
   ]
  },
  {
   "cell_type": "code",
   "execution_count": 28,
   "metadata": {},
   "outputs": [
    {
     "name": "stdout",
     "output_type": "stream",
     "text": [
      "--- Printing US Bikeshare Statistics for Chicago ---\n",
      "    (Data for all Tuesdays in January provided)\n"
     ]
    }
   ],
   "source": [
    "print('\\n--- Printing US Bikeshare Statistics for', city[0].title(), '---\\n'\n",
    "      '    (Data for all {}s in {} provided)'.format(day_name[selected_day], selected_month))"
   ]
  },
  {
   "cell_type": "code",
   "execution_count": null,
   "metadata": {},
   "outputs": [],
   "source": []
  }
 ],
 "metadata": {
  "kernelspec": {
   "display_name": "Python [default]",
   "language": "python",
   "name": "python3"
  },
  "language_info": {
   "codemirror_mode": {
    "name": "ipython",
    "version": 3
   },
   "file_extension": ".py",
   "mimetype": "text/x-python",
   "name": "python",
   "nbconvert_exporter": "python",
   "pygments_lexer": "ipython3",
   "version": "3.6.4"
  }
 },
 "nbformat": 4,
 "nbformat_minor": 2
}
