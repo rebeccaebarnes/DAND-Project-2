{
 "cells": [
  {
   "cell_type": "markdown",
   "metadata": {},
   "source": [
    "# Walkthru of Bikeshare Project Code\n",
    "## Step 1 - Import dependencies"
   ]
  },
  {
   "cell_type": "code",
   "execution_count": 2,
   "metadata": {},
   "outputs": [],
   "source": [
    "from calendar import day_name, month_name\n",
    "from datetime import datetime\n",
    "from datetime import time as Time\n",
    "import time\n",
    "import pandas as pd\n",
    "import matplotlib.pyplot as plt\n",
    "import seaborn as sns\n",
    "% matplotlib inline"
   ]
  },
  {
   "cell_type": "markdown",
   "metadata": {},
   "source": [
    "(`% matplotlib inline` added for ease of use with jupyter notebooks)"
   ]
  },
  {
   "cell_type": "markdown",
   "metadata": {},
   "source": [
    "## Step 2 - Obtain User Input"
   ]
  },
  {
   "cell_type": "code",
   "execution_count": 3,
   "metadata": {},
   "outputs": [],
   "source": [
    "def get_city():\n",
    "    '''Returns city and filename (out of Chicago, New York and Washington) according to\n",
    "       user input, while managing incorrect input.\n",
    "\n",
    "    Args:\n",
    "        none.\n",
    "    Returns:\n",
    "        city: (str) lowercase of input city.\n",
    "        file: (str) corresponding csv filename.\n",
    "    '''\n",
    "    # Ask user for input while managing incorrect input\n",
    "    while True:\n",
    "        city = input('\\nHello! Let\\'s explore some US bikeshare data!\\n'\n",
    "                     'Would you like to see data for Chicago, New York, or Washington?\\n').lower()\n",
    "        # Confirm if input string is one of the listed cities and ask again if not\n",
    "        if city not in ('chicago', 'new york', 'washington'):\n",
    "            print('\\nYou didn\\'t enter an availabe city. Please enter one of the cities listed.\\n'\n",
    "                  'Returning you to the original input request:')\n",
    "        else:\n",
    "            break\n",
    "    # Use the input to select a filename\n",
    "    if city == 'chicago':\n",
    "        file = 'chicago.csv'\n",
    "    elif city == 'new york':\n",
    "        file = 'new_york_city.csv'\n",
    "    else:\n",
    "        file = 'washington.csv'\n",
    "\n",
    "    return city, file"
   ]
  },
  {
   "cell_type": "code",
   "execution_count": 4,
   "metadata": {},
   "outputs": [
    {
     "name": "stdout",
     "output_type": "stream",
     "text": [
      "\n",
      "Hello! Let's explore some US bikeshare data!\n",
      "Would you like to see data for Chicago, New York, or Washington?\n",
      "Chicago\n"
     ]
    },
    {
     "data": {
      "text/plain": [
       "('chicago', 'chicago.csv')"
      ]
     },
     "execution_count": 4,
     "metadata": {},
     "output_type": "execute_result"
    }
   ],
   "source": [
    "city, file = get_city()\n",
    "city, file"
   ]
  },
  {
   "cell_type": "code",
   "execution_count": 5,
   "metadata": {},
   "outputs": [],
   "source": [
    "def get_time_period():\n",
    "    '''Allows the user to select a time filter, while managing incorrect input.\n",
    "\n",
    "    Args:\n",
    "        none.\n",
    "    Returns:\n",
    "        (str) inputted type of filter.\n",
    "    '''\n",
    "    # Ask user for input while incorrect input\n",
    "    while True:\n",
    "        time_period = input('\\nWould you like to filter the data: by month, day, both or, '\n",
    "                            'not at all? Type \"none\" for no time filter.'\n",
    "                            '(This next step will take some time.)\\n').lower()\n",
    "        # Confirm if input string is one of the listed options and ask again if not\n",
    "        if time_period not in ('month', 'day', 'both', 'none'):\n",
    "            print('\\nYou didn\\'t enter an available filter. Please enter month, day, both or none.'\n",
    "                  '\\nReturning you to the original input request:')\n",
    "        else:\n",
    "            break\n",
    "    # Return user input as (str) lower case\n",
    "    return time_period"
   ]
  },
  {
   "cell_type": "code",
   "execution_count": 7,
   "metadata": {},
   "outputs": [
    {
     "name": "stdout",
     "output_type": "stream",
     "text": [
      "\n",
      "Would you like to filter the data: by month, day, both or, not at all? Type \"none\" for no time filter.(This next step will take some time.)\n",
      "both\n"
     ]
    },
    {
     "data": {
      "text/plain": [
       "'both'"
      ]
     },
     "execution_count": 7,
     "metadata": {},
     "output_type": "execute_result"
    }
   ],
   "source": [
    "time_period = get_time_period()\n",
    "time_period"
   ]
  },
  {
   "cell_type": "markdown",
   "metadata": {},
   "source": [
    "The questions asked at this point are dependent upon the filter chosen:\n",
    "- month: `get_month()`\n",
    "- day: `get_day()`\n",
    "- both: `get_month()` and `get_day()`"
   ]
  },
  {
   "cell_type": "code",
   "execution_count": 8,
   "metadata": {},
   "outputs": [],
   "source": [
    "def get_month():\n",
    "    '''Returns month between January and June, according to user input, while managing\n",
    "       incorrect input.\n",
    "\n",
    "    Args:\n",
    "        none.\n",
    "    Returns:\n",
    "        (int) month as its index of month_name ('January' = 1)\n",
    "    '''\n",
    "    # Ask user for input while managing incorrect input\n",
    "    while True:\n",
    "        month = input('\\nWhich month? January, February, March, April, May, or June?\\n').title()\n",
    "        # Confirm if input string is one of the listed months and ask again if not\n",
    "        if month not in month_name[:7]:\n",
    "            print('\\nYou didn\\'t enter an available month. Please enter one of the months listed.\\n'\n",
    "                  'Returning you to the original input request:')\n",
    "        else:\n",
    "            break\n",
    "    # Return user input as (str) title case\n",
    "    return list(month_name).index(month)"
   ]
  },
  {
   "cell_type": "code",
   "execution_count": 9,
   "metadata": {},
   "outputs": [
    {
     "name": "stdout",
     "output_type": "stream",
     "text": [
      "\n",
      "Which month? January, February, March, April, May, or June?\n",
      "March\n"
     ]
    },
    {
     "data": {
      "text/plain": [
       "3"
      ]
     },
     "execution_count": 9,
     "metadata": {},
     "output_type": "execute_result"
    }
   ],
   "source": [
    "month = get_month()\n",
    "month"
   ]
  },
  {
   "cell_type": "code",
   "execution_count": 10,
   "metadata": {},
   "outputs": [],
   "source": [
    "def get_day():\n",
    "    '''Asks the user for a day and returns the corresponding index, while managing\n",
    "       for incorrect input.\n",
    "\n",
    "    Args:\n",
    "        none.\n",
    "    Returns:\n",
    "        (int) day of the week as its index of day_name ('Monday' = 0).\n",
    "    '''\n",
    "    # Ask user for input while managing incorrect input\n",
    "    while True:\n",
    "        day = input('\\nWhich day? Please enter a day of the week from Sunday to Saturday.'\n",
    "                    '\\n').title()\n",
    "        # Confirm if input string is one of the days of the week and ask again if not\n",
    "        if day not in day_name:\n",
    "            print('\\nYou didn\\'t enter an available day. Please enter one of the '\n",
    "                  'days of the week.\\n'\n",
    "                  'Returning you to the original input request:')\n",
    "        else:\n",
    "            break\n",
    "    # Return (int) of day's index in day_name\n",
    "    return list(day_name).index(day)"
   ]
  },
  {
   "cell_type": "code",
   "execution_count": 11,
   "metadata": {},
   "outputs": [
    {
     "name": "stdout",
     "output_type": "stream",
     "text": [
      "\n",
      "Which day? Please enter a day of the week from Sunday to Saturday.\n",
      "Tuesday\n"
     ]
    },
    {
     "data": {
      "text/plain": [
       "1"
      ]
     },
     "execution_count": 11,
     "metadata": {},
     "output_type": "execute_result"
    }
   ],
   "source": [
    "day = get_day()\n",
    "day"
   ]
  },
  {
   "cell_type": "markdown",
   "metadata": {},
   "source": [
    "## Step 3 - Create DataFrame"
   ]
  },
  {
   "cell_type": "code",
   "execution_count": 79,
   "metadata": {
    "scrolled": true
   },
   "outputs": [
    {
     "data": {
      "text/html": [
       "<div>\n",
       "<style scoped>\n",
       "    .dataframe tbody tr th:only-of-type {\n",
       "        vertical-align: middle;\n",
       "    }\n",
       "\n",
       "    .dataframe tbody tr th {\n",
       "        vertical-align: top;\n",
       "    }\n",
       "\n",
       "    .dataframe thead th {\n",
       "        text-align: right;\n",
       "    }\n",
       "</style>\n",
       "<table border=\"1\" class=\"dataframe\">\n",
       "  <thead>\n",
       "    <tr style=\"text-align: right;\">\n",
       "      <th></th>\n",
       "      <th>Start Time</th>\n",
       "      <th>End Time</th>\n",
       "      <th>Trip Duration</th>\n",
       "      <th>Start Station</th>\n",
       "      <th>End Station</th>\n",
       "      <th>User Type</th>\n",
       "      <th>Gender</th>\n",
       "      <th>Birth Year</th>\n",
       "    </tr>\n",
       "  </thead>\n",
       "  <tbody>\n",
       "    <tr>\n",
       "      <th>0</th>\n",
       "      <td>2017-01-01 00:00:36</td>\n",
       "      <td>2017-01-01 00:06:32</td>\n",
       "      <td>356</td>\n",
       "      <td>Canal St &amp; Taylor St</td>\n",
       "      <td>Canal St &amp; Monroe St (*)</td>\n",
       "      <td>Customer</td>\n",
       "      <td>NaN</td>\n",
       "      <td>NaN</td>\n",
       "    </tr>\n",
       "    <tr>\n",
       "      <th>1</th>\n",
       "      <td>2017-01-01 00:02:54</td>\n",
       "      <td>2017-01-01 00:08:21</td>\n",
       "      <td>327</td>\n",
       "      <td>Larrabee St &amp; Menomonee St</td>\n",
       "      <td>Sheffield Ave &amp; Kingsbury St</td>\n",
       "      <td>Subscriber</td>\n",
       "      <td>Male</td>\n",
       "      <td>1984.0</td>\n",
       "    </tr>\n",
       "    <tr>\n",
       "      <th>2</th>\n",
       "      <td>2017-01-01 00:06:06</td>\n",
       "      <td>2017-01-01 00:18:31</td>\n",
       "      <td>745</td>\n",
       "      <td>Orleans St &amp; Chestnut St (NEXT Apts)</td>\n",
       "      <td>Ashland Ave &amp; Blackhawk St</td>\n",
       "      <td>Subscriber</td>\n",
       "      <td>Male</td>\n",
       "      <td>1985.0</td>\n",
       "    </tr>\n",
       "    <tr>\n",
       "      <th>3</th>\n",
       "      <td>2017-01-01 00:07:28</td>\n",
       "      <td>2017-01-01 00:12:51</td>\n",
       "      <td>323</td>\n",
       "      <td>Franklin St &amp; Monroe St</td>\n",
       "      <td>Clinton St &amp; Tilden St</td>\n",
       "      <td>Subscriber</td>\n",
       "      <td>Male</td>\n",
       "      <td>1990.0</td>\n",
       "    </tr>\n",
       "    <tr>\n",
       "      <th>4</th>\n",
       "      <td>2017-01-01 00:07:57</td>\n",
       "      <td>2017-01-01 00:20:53</td>\n",
       "      <td>776</td>\n",
       "      <td>Broadway &amp; Barry Ave</td>\n",
       "      <td>Sedgwick St &amp; North Ave</td>\n",
       "      <td>Subscriber</td>\n",
       "      <td>Male</td>\n",
       "      <td>1990.0</td>\n",
       "    </tr>\n",
       "  </tbody>\n",
       "</table>\n",
       "</div>"
      ],
      "text/plain": [
       "            Start Time             End Time  Trip Duration  \\\n",
       "0  2017-01-01 00:00:36  2017-01-01 00:06:32            356   \n",
       "1  2017-01-01 00:02:54  2017-01-01 00:08:21            327   \n",
       "2  2017-01-01 00:06:06  2017-01-01 00:18:31            745   \n",
       "3  2017-01-01 00:07:28  2017-01-01 00:12:51            323   \n",
       "4  2017-01-01 00:07:57  2017-01-01 00:20:53            776   \n",
       "\n",
       "                          Start Station                   End Station  \\\n",
       "0                  Canal St & Taylor St      Canal St & Monroe St (*)   \n",
       "1            Larrabee St & Menomonee St  Sheffield Ave & Kingsbury St   \n",
       "2  Orleans St & Chestnut St (NEXT Apts)    Ashland Ave & Blackhawk St   \n",
       "3               Franklin St & Monroe St        Clinton St & Tilden St   \n",
       "4                  Broadway & Barry Ave       Sedgwick St & North Ave   \n",
       "\n",
       "    User Type Gender  Birth Year  \n",
       "0    Customer    NaN         NaN  \n",
       "1  Subscriber   Male      1984.0  \n",
       "2  Subscriber   Male      1985.0  \n",
       "3  Subscriber   Male      1990.0  \n",
       "4  Subscriber   Male      1990.0  "
      ]
     },
     "execution_count": 79,
     "metadata": {},
     "output_type": "execute_result"
    }
   ],
   "source": [
    "df = pd.read_csv(file)\n",
    "df.head()"
   ]
  },
  {
   "cell_type": "markdown",
   "metadata": {},
   "source": [
    "The columns were renamed for consistency in formatting."
   ]
  },
  {
   "cell_type": "code",
   "execution_count": 80,
   "metadata": {},
   "outputs": [],
   "source": [
    "df.rename(columns={'Start Time': 'start_time', 'End Time': 'end_time',\n",
    "                       'Trip Duration': 'trip_duration', 'Start Station': 'start_station',\n",
    "                       'End Station': 'end_station', 'User Type': 'user_type', 'Gender': 'gender',\n",
    "                       'Birth Year': 'birth_year'}, inplace=True)"
   ]
  },
  {
   "cell_type": "markdown",
   "metadata": {},
   "source": [
    "A small amount of data wrangling was completed to ensure columns were in the correct format,"
   ]
  },
  {
   "cell_type": "code",
   "execution_count": 81,
   "metadata": {},
   "outputs": [],
   "source": [
    "df['start_time'] = pd.to_datetime(df.start_time)"
   ]
  },
  {
   "cell_type": "markdown",
   "metadata": {},
   "source": [
    "and additional columns added to ease the comparison process."
   ]
  },
  {
   "cell_type": "code",
   "execution_count": 82,
   "metadata": {},
   "outputs": [],
   "source": [
    "df['weekday'] = df.start_time.apply(datetime.weekday)"
   ]
  },
  {
   "cell_type": "code",
   "execution_count": 83,
   "metadata": {},
   "outputs": [
    {
     "data": {
      "text/html": [
       "<div>\n",
       "<style scoped>\n",
       "    .dataframe tbody tr th:only-of-type {\n",
       "        vertical-align: middle;\n",
       "    }\n",
       "\n",
       "    .dataframe tbody tr th {\n",
       "        vertical-align: top;\n",
       "    }\n",
       "\n",
       "    .dataframe thead th {\n",
       "        text-align: right;\n",
       "    }\n",
       "</style>\n",
       "<table border=\"1\" class=\"dataframe\">\n",
       "  <thead>\n",
       "    <tr style=\"text-align: right;\">\n",
       "      <th></th>\n",
       "      <th>start_time</th>\n",
       "      <th>end_time</th>\n",
       "      <th>trip_duration</th>\n",
       "      <th>start_station</th>\n",
       "      <th>end_station</th>\n",
       "      <th>user_type</th>\n",
       "      <th>gender</th>\n",
       "      <th>birth_year</th>\n",
       "      <th>weekday</th>\n",
       "      <th>trip</th>\n",
       "    </tr>\n",
       "  </thead>\n",
       "  <tbody>\n",
       "    <tr>\n",
       "      <th>0</th>\n",
       "      <td>2017-01-01 00:00:36</td>\n",
       "      <td>2017-01-01 00:06:32</td>\n",
       "      <td>356</td>\n",
       "      <td>Canal St &amp; Taylor St</td>\n",
       "      <td>Canal St &amp; Monroe St (*)</td>\n",
       "      <td>Customer</td>\n",
       "      <td>NaN</td>\n",
       "      <td>NaN</td>\n",
       "      <td>6</td>\n",
       "      <td>Canal St &amp; Taylor St to Canal St &amp; Monroe St (*)</td>\n",
       "    </tr>\n",
       "    <tr>\n",
       "      <th>1</th>\n",
       "      <td>2017-01-01 00:02:54</td>\n",
       "      <td>2017-01-01 00:08:21</td>\n",
       "      <td>327</td>\n",
       "      <td>Larrabee St &amp; Menomonee St</td>\n",
       "      <td>Sheffield Ave &amp; Kingsbury St</td>\n",
       "      <td>Subscriber</td>\n",
       "      <td>Male</td>\n",
       "      <td>1984.0</td>\n",
       "      <td>6</td>\n",
       "      <td>Larrabee St &amp; Menomonee St to Sheffield Ave &amp; ...</td>\n",
       "    </tr>\n",
       "    <tr>\n",
       "      <th>2</th>\n",
       "      <td>2017-01-01 00:06:06</td>\n",
       "      <td>2017-01-01 00:18:31</td>\n",
       "      <td>745</td>\n",
       "      <td>Orleans St &amp; Chestnut St (NEXT Apts)</td>\n",
       "      <td>Ashland Ave &amp; Blackhawk St</td>\n",
       "      <td>Subscriber</td>\n",
       "      <td>Male</td>\n",
       "      <td>1985.0</td>\n",
       "      <td>6</td>\n",
       "      <td>Orleans St &amp; Chestnut St (NEXT Apts) to Ashlan...</td>\n",
       "    </tr>\n",
       "    <tr>\n",
       "      <th>3</th>\n",
       "      <td>2017-01-01 00:07:28</td>\n",
       "      <td>2017-01-01 00:12:51</td>\n",
       "      <td>323</td>\n",
       "      <td>Franklin St &amp; Monroe St</td>\n",
       "      <td>Clinton St &amp; Tilden St</td>\n",
       "      <td>Subscriber</td>\n",
       "      <td>Male</td>\n",
       "      <td>1990.0</td>\n",
       "      <td>6</td>\n",
       "      <td>Franklin St &amp; Monroe St to Clinton St &amp; Tilden St</td>\n",
       "    </tr>\n",
       "    <tr>\n",
       "      <th>4</th>\n",
       "      <td>2017-01-01 00:07:57</td>\n",
       "      <td>2017-01-01 00:20:53</td>\n",
       "      <td>776</td>\n",
       "      <td>Broadway &amp; Barry Ave</td>\n",
       "      <td>Sedgwick St &amp; North Ave</td>\n",
       "      <td>Subscriber</td>\n",
       "      <td>Male</td>\n",
       "      <td>1990.0</td>\n",
       "      <td>6</td>\n",
       "      <td>Broadway &amp; Barry Ave to Sedgwick St &amp; North Ave</td>\n",
       "    </tr>\n",
       "  </tbody>\n",
       "</table>\n",
       "</div>"
      ],
      "text/plain": [
       "           start_time             end_time  trip_duration  \\\n",
       "0 2017-01-01 00:00:36  2017-01-01 00:06:32            356   \n",
       "1 2017-01-01 00:02:54  2017-01-01 00:08:21            327   \n",
       "2 2017-01-01 00:06:06  2017-01-01 00:18:31            745   \n",
       "3 2017-01-01 00:07:28  2017-01-01 00:12:51            323   \n",
       "4 2017-01-01 00:07:57  2017-01-01 00:20:53            776   \n",
       "\n",
       "                          start_station                   end_station  \\\n",
       "0                  Canal St & Taylor St      Canal St & Monroe St (*)   \n",
       "1            Larrabee St & Menomonee St  Sheffield Ave & Kingsbury St   \n",
       "2  Orleans St & Chestnut St (NEXT Apts)    Ashland Ave & Blackhawk St   \n",
       "3               Franklin St & Monroe St        Clinton St & Tilden St   \n",
       "4                  Broadway & Barry Ave       Sedgwick St & North Ave   \n",
       "\n",
       "    user_type gender  birth_year  weekday  \\\n",
       "0    Customer    NaN         NaN        6   \n",
       "1  Subscriber   Male      1984.0        6   \n",
       "2  Subscriber   Male      1985.0        6   \n",
       "3  Subscriber   Male      1990.0        6   \n",
       "4  Subscriber   Male      1990.0        6   \n",
       "\n",
       "                                                trip  \n",
       "0   Canal St & Taylor St to Canal St & Monroe St (*)  \n",
       "1  Larrabee St & Menomonee St to Sheffield Ave & ...  \n",
       "2  Orleans St & Chestnut St (NEXT Apts) to Ashlan...  \n",
       "3  Franklin St & Monroe St to Clinton St & Tilden St  \n",
       "4    Broadway & Barry Ave to Sedgwick St & North Ave  "
      ]
     },
     "execution_count": 83,
     "metadata": {},
     "output_type": "execute_result"
    }
   ],
   "source": [
    "df['trip'] = df.start_station + \" to \" + df.end_station\n",
    "df.head()"
   ]
  },
  {
   "cell_type": "markdown",
   "metadata": {},
   "source": [
    "## Step 4 - Filter Dataframe\n",
    "The dataframe was filtered according to the filters selected by the user. In this case, the first step is the filter related to `month` and the `second` is related to day because the `both` filter was selected."
   ]
  },
  {
   "cell_type": "code",
   "execution_count": 84,
   "metadata": {},
   "outputs": [],
   "source": [
    "# Update the dataframe according to the filter\n",
    "df = df.loc[df.start_time.dt.month == month]"
   ]
  },
  {
   "cell_type": "code",
   "execution_count": 85,
   "metadata": {},
   "outputs": [
    {
     "data": {
      "text/html": [
       "<div>\n",
       "<style scoped>\n",
       "    .dataframe tbody tr th:only-of-type {\n",
       "        vertical-align: middle;\n",
       "    }\n",
       "\n",
       "    .dataframe tbody tr th {\n",
       "        vertical-align: top;\n",
       "    }\n",
       "\n",
       "    .dataframe thead th {\n",
       "        text-align: right;\n",
       "    }\n",
       "</style>\n",
       "<table border=\"1\" class=\"dataframe\">\n",
       "  <thead>\n",
       "    <tr style=\"text-align: right;\">\n",
       "      <th></th>\n",
       "      <th>start_time</th>\n",
       "      <th>end_time</th>\n",
       "      <th>trip_duration</th>\n",
       "      <th>start_station</th>\n",
       "      <th>end_station</th>\n",
       "      <th>user_type</th>\n",
       "      <th>gender</th>\n",
       "      <th>birth_year</th>\n",
       "      <th>weekday</th>\n",
       "      <th>trip</th>\n",
       "    </tr>\n",
       "  </thead>\n",
       "  <tbody>\n",
       "    <tr>\n",
       "      <th>308253</th>\n",
       "      <td>2017-03-07 00:02:27</td>\n",
       "      <td>2017-03-07 00:13:03</td>\n",
       "      <td>636</td>\n",
       "      <td>Michigan Ave &amp; Lake St</td>\n",
       "      <td>Indiana Ave &amp; Roosevelt Rd</td>\n",
       "      <td>Subscriber</td>\n",
       "      <td>Male</td>\n",
       "      <td>1980.0</td>\n",
       "      <td>1</td>\n",
       "      <td>Michigan Ave &amp; Lake St to Indiana Ave &amp; Roosev...</td>\n",
       "    </tr>\n",
       "    <tr>\n",
       "      <th>308254</th>\n",
       "      <td>2017-03-07 00:05:01</td>\n",
       "      <td>2017-03-07 00:11:23</td>\n",
       "      <td>382</td>\n",
       "      <td>Ellis Ave &amp; 55th St</td>\n",
       "      <td>Cornell Ave &amp; Hyde Park Blvd</td>\n",
       "      <td>Subscriber</td>\n",
       "      <td>Male</td>\n",
       "      <td>1989.0</td>\n",
       "      <td>1</td>\n",
       "      <td>Ellis Ave &amp; 55th St to Cornell Ave &amp; Hyde Park...</td>\n",
       "    </tr>\n",
       "    <tr>\n",
       "      <th>308255</th>\n",
       "      <td>2017-03-07 00:05:16</td>\n",
       "      <td>2017-03-07 00:14:07</td>\n",
       "      <td>531</td>\n",
       "      <td>Adler Planetarium</td>\n",
       "      <td>Wabash Ave &amp; Roosevelt Rd</td>\n",
       "      <td>Subscriber</td>\n",
       "      <td>Female</td>\n",
       "      <td>1981.0</td>\n",
       "      <td>1</td>\n",
       "      <td>Adler Planetarium to Wabash Ave &amp; Roosevelt Rd</td>\n",
       "    </tr>\n",
       "    <tr>\n",
       "      <th>308256</th>\n",
       "      <td>2017-03-07 00:05:56</td>\n",
       "      <td>2017-03-07 00:11:52</td>\n",
       "      <td>356</td>\n",
       "      <td>Clark St &amp; Lake St</td>\n",
       "      <td>Canal St &amp; Madison St</td>\n",
       "      <td>Subscriber</td>\n",
       "      <td>Male</td>\n",
       "      <td>1989.0</td>\n",
       "      <td>1</td>\n",
       "      <td>Clark St &amp; Lake St to Canal St &amp; Madison St</td>\n",
       "    </tr>\n",
       "    <tr>\n",
       "      <th>308257</th>\n",
       "      <td>2017-03-07 00:06:18</td>\n",
       "      <td>2017-03-07 00:11:37</td>\n",
       "      <td>319</td>\n",
       "      <td>Clinton St &amp; Washington Blvd</td>\n",
       "      <td>Milwaukee Ave &amp; Grand Ave</td>\n",
       "      <td>Subscriber</td>\n",
       "      <td>Male</td>\n",
       "      <td>1977.0</td>\n",
       "      <td>1</td>\n",
       "      <td>Clinton St &amp; Washington Blvd to Milwaukee Ave ...</td>\n",
       "    </tr>\n",
       "  </tbody>\n",
       "</table>\n",
       "</div>"
      ],
      "text/plain": [
       "                start_time             end_time  trip_duration  \\\n",
       "308253 2017-03-07 00:02:27  2017-03-07 00:13:03            636   \n",
       "308254 2017-03-07 00:05:01  2017-03-07 00:11:23            382   \n",
       "308255 2017-03-07 00:05:16  2017-03-07 00:14:07            531   \n",
       "308256 2017-03-07 00:05:56  2017-03-07 00:11:52            356   \n",
       "308257 2017-03-07 00:06:18  2017-03-07 00:11:37            319   \n",
       "\n",
       "                       start_station                   end_station  \\\n",
       "308253        Michigan Ave & Lake St    Indiana Ave & Roosevelt Rd   \n",
       "308254           Ellis Ave & 55th St  Cornell Ave & Hyde Park Blvd   \n",
       "308255             Adler Planetarium     Wabash Ave & Roosevelt Rd   \n",
       "308256            Clark St & Lake St         Canal St & Madison St   \n",
       "308257  Clinton St & Washington Blvd     Milwaukee Ave & Grand Ave   \n",
       "\n",
       "         user_type  gender  birth_year  weekday  \\\n",
       "308253  Subscriber    Male      1980.0        1   \n",
       "308254  Subscriber    Male      1989.0        1   \n",
       "308255  Subscriber  Female      1981.0        1   \n",
       "308256  Subscriber    Male      1989.0        1   \n",
       "308257  Subscriber    Male      1977.0        1   \n",
       "\n",
       "                                                     trip  \n",
       "308253  Michigan Ave & Lake St to Indiana Ave & Roosev...  \n",
       "308254  Ellis Ave & 55th St to Cornell Ave & Hyde Park...  \n",
       "308255     Adler Planetarium to Wabash Ave & Roosevelt Rd  \n",
       "308256        Clark St & Lake St to Canal St & Madison St  \n",
       "308257  Clinton St & Washington Blvd to Milwaukee Ave ...  "
      ]
     },
     "execution_count": 85,
     "metadata": {},
     "output_type": "execute_result"
    }
   ],
   "source": [
    "df = df.loc[df.weekday == day]\n",
    "df.head()"
   ]
  },
  {
   "cell_type": "markdown",
   "metadata": {},
   "source": [
    "As a result of the selected filters, only entries during March on Tuesdays remain within the dataframe.\n",
    "\n",
    "The total `trip_count` is calculated to allow for proportional comparisons."
   ]
  },
  {
   "cell_type": "code",
   "execution_count": 86,
   "metadata": {},
   "outputs": [
    {
     "data": {
      "text/plain": [
       "23129"
      ]
     },
     "execution_count": 86,
     "metadata": {},
     "output_type": "execute_result"
    }
   ],
   "source": [
    "trip_count = df.shape[0]\n",
    "trip_count"
   ]
  },
  {
   "cell_type": "markdown",
   "metadata": {},
   "source": [
    "## Step 5 - Display Statistics\n",
    "### Start Time Info\n",
    "Start time info is displayed depending on the `time_period` filters selected:\n",
    "- none: `popular_month`, `popular_day`, `popular_hour`\n",
    "- month: `popular_day`, `popular_hour`\n",
    "- day: `popular_hour`\n",
    "- both: `popular_hour`\n",
    "\n",
    "While less necessary in a notebook, the below is included to demonstrate the formatting provided to improve readability within a terminal."
   ]
  },
  {
   "cell_type": "code",
   "execution_count": 87,
   "metadata": {},
   "outputs": [],
   "source": [
    "def print_header(city, filter_type, month_filter=None, day_filter=None):\n",
    "    '''Prints header that indicatses city name and any filters used.\n",
    "\n",
    "    Args:\n",
    "        city: (str) city name.\n",
    "        filter_type: (str) 'none', 'month', 'day', or 'both'.\n",
    "        month_filter: (int) optional, index of selected month in month_name ('January' = 1).\n",
    "        day_filter: (int) optional, index of selected day in day_name ('Monday' = 0).\n",
    "    Returns:\n",
    "        None.\n",
    "    '''\n",
    "    if filter_type == 'none':\n",
    "        print('\\n--- Printing US Bikeshare Statistics for', city.title(), '---'\n",
    "              '\\n    (No filters used)\\n')\n",
    "\n",
    "    if filter_type == 'month':\n",
    "        print('\\n--- Printing US Bikeshare Statistics for', city.title(), '---'\n",
    "              '\\n    (Filter: Month - {})\\n'.format(month_name[month_filter]))\n",
    "\n",
    "    if filter_type == 'day':\n",
    "        print('\\n--- Printing US Bikeshare Statistics for', city.title(), '---'\n",
    "              '\\n    (Filter: Day - {})\\n'.format(day_name[day_filter]))\n",
    "\n",
    "    if filter_type == 'both':\n",
    "        print('\\n--- Printing US Bikeshare Statistics for', city.title(), '---'\n",
    "              '\\n    (Filters: Month - {}, Day - {})\\n'.format(\n",
    "                  month_name[month_filter], day_name[day_filter]))"
   ]
  },
  {
   "cell_type": "code",
   "execution_count": 88,
   "metadata": {},
   "outputs": [
    {
     "name": "stdout",
     "output_type": "stream",
     "text": [
      "\n",
      "--- Printing US Bikeshare Statistics for Chicago ---\n",
      "    (Filters: Month - March, Day - Tuesday)\n",
      "\n"
     ]
    }
   ],
   "source": [
    "print_header(city, time_period, month, day)"
   ]
  },
  {
   "cell_type": "markdown",
   "metadata": {},
   "source": [
    "The most repeated version of the pie chart was included into a function."
   ]
  },
  {
   "cell_type": "code",
   "execution_count": 89,
   "metadata": {},
   "outputs": [],
   "source": [
    "def pie_chart(var_count, var_name, total_count, title):\n",
    "    '''Creates a pie chart from two values.\n",
    "\n",
    "    Args:\n",
    "        var_count: (int) count of variable.\n",
    "        var_name: (str) variable name.\n",
    "        total_count: (int) total category count from which variable was selected.\n",
    "        title: (str) title for chart.\n",
    "    '''\n",
    "    values = [var_count, total_count - var_count]\n",
    "    labels = [var_name, 'Remainder']\n",
    "    plt.subplots(figsize=(5, 5))\n",
    "    plt.pie(x=values, labels=labels)\n",
    "    plt.title(title);"
   ]
  },
  {
   "cell_type": "code",
   "execution_count": 90,
   "metadata": {},
   "outputs": [],
   "source": [
    "def popular_hour(df, city, trip_count, run_time_list):\n",
    "    '''Prints the most popular start hour, and its count, from df.\n",
    "       Appends 'run time info' to a list for future printing.\n",
    "\n",
    "    Args:\n",
    "        df: Pandas DataFrame.\n",
    "        run_time_list: (list).\n",
    "        city: (str) name of city for df.\n",
    "        trip_count: (int) number of rows in df.\n",
    "    Returns:\n",
    "        run_time_list: (list) collection of run-time info.\n",
    "    '''\n",
    "    start_time = time.time()\n",
    "\n",
    "    # Find modal hour\n",
    "    df_time = df.dt.hour\n",
    "    pop_hour = df_time.mode().loc[0]\n",
    "\n",
    "    # Convert to 12 hr time\n",
    "    convert_hour = Time(hour=pop_hour)\n",
    "    convert_hour = Time.strftime(convert_hour, '%#I %p')\n",
    "\n",
    "    # Find count of modal hour\n",
    "    pop_hour_count = df_time.value_counts().loc[pop_hour]\n",
    "\n",
    "    # Save run-time info and print stats\n",
    "    run_time_list.append(\n",
    "        \"Calculating the most popular start hour took %s seconds.\"\n",
    "        % round((time.time() - start_time), 4)\n",
    "    )\n",
    "    print(\n",
    "        \"Most popular hour to start a trip:          {}  (Trips: {:,})\"\n",
    "        .format(convert_hour, pop_hour_count)\n",
    "        )\n",
    "\n",
    "    pie_chart(pop_hour_count, convert_hour, trip_count,\n",
    "              \"Trips Started in Most Popular Hour for {}\".format(city.title()))\n",
    "\n",
    "    return run_time_list"
   ]
  },
  {
   "cell_type": "code",
   "execution_count": 93,
   "metadata": {
    "scrolled": true
   },
   "outputs": [
    {
     "name": "stdout",
     "output_type": "stream",
     "text": [
      "Most popular hour to start a trip:          5 PM  (Trips: 3,448)\n"
     ]
    },
    {
     "data": {
      "text/plain": [
       "['Calculating the most popular start hour took 0.003 seconds.']"
      ]
     },
     "execution_count": 93,
     "metadata": {},
     "output_type": "execute_result"
    },
    {
     "data": {
      "image/png": "[encoded data removed]",
      "text/plain": [
       "<matplotlib.figure.Figure at 0x247ab70ad30>"
      ]
     },
     "metadata": {},
     "output_type": "display_data"
    }
   ],
   "source": [
    "run_time_list = []\n",
    "popular_hour(df.start_time, city, trip_count, run_time_list)"
   ]
  },
  {
   "cell_type": "markdown",
   "metadata": {},
   "source": [
    "### Trip Info"
   ]
  },
  {
   "cell_type": "code",
   "execution_count": 91,
   "metadata": {},
   "outputs": [],
   "source": [
    "def popular_start_station(df, city, trip_count, run_time_list):\n",
    "    '''Prints the most popular start station, and its count, from df.\n",
    "       Appends 'run time info' to a list for future printing.\n",
    "\n",
    "    Args:\n",
    "        df: Pandas DataFrame.\n",
    "        run_time_list: (list).\n",
    "        city: (str) name of city for df.\n",
    "        trip_count: (int) number of rows in df.\n",
    "    Returns:\n",
    "        run_time_list: (list) collection of run-time info.\n",
    "    '''\n",
    "    start_time = time.time()\n",
    "\n",
    "    # Find modal station\n",
    "    pop_station = df.mode().loc[0]\n",
    "\n",
    "    # Find count of modal station\n",
    "    pop_start_count = df.value_counts().loc[pop_station]\n",
    "\n",
    "    # Save run-time info and print stats\n",
    "    run_time_list.append(\n",
    "        \"Calculating the most popular start station took %s seconds.\"\n",
    "        % round((time.time() - start_time), 4)\n",
    "    )\n",
    "    print(\n",
    "        \"Most popular start station:            {}  (Trips: {:,})\"\n",
    "        .format(pop_station, pop_start_count)\n",
    "        )\n",
    "\n",
    "    pie_chart(pop_start_count, pop_station, trip_count,\n",
    "              \"Trips Started from Most Popular Station for {}\".format(city.title()))\n",
    "\n",
    "    return run_time_list"
   ]
  },
  {
   "cell_type": "code",
   "execution_count": 94,
   "metadata": {},
   "outputs": [
    {
     "name": "stdout",
     "output_type": "stream",
     "text": [
      "Most popular start station:            Clinton St & Washington Blvd  (Trips: 515)\n"
     ]
    },
    {
     "data": {
      "text/plain": [
       "['Calculating the most popular start hour took 0.003 seconds.',\n",
       " 'Calculating the most popular start station took 0.01 seconds.']"
      ]
     },
     "execution_count": 94,
     "metadata": {},
     "output_type": "execute_result"
    },
    {
     "data": {
      "image/png": "[encoded data removed]",
      "text/plain": [
       "<matplotlib.figure.Figure at 0x247ab717cf8>"
      ]
     },
     "metadata": {},
     "output_type": "display_data"
    }
   ],
   "source": [
    "popular_start_station(df.start_station, city, trip_count, run_time_list)"
   ]
  },
  {
   "cell_type": "code",
   "execution_count": 95,
   "metadata": {},
   "outputs": [],
   "source": [
    "def popular_end_station(df, city, trip_count, run_time_list):\n",
    "    '''Prints the most popular end station, and its count, from df.\n",
    "       Appends 'run time info' to a list for future printing.\n",
    "\n",
    "    Args:\n",
    "        df: Pandas DataFrame.\n",
    "        run_time_list: (list).\n",
    "        city: (str) name of city for df.\n",
    "        trip_count: (int) number of rows in df.\n",
    "    Returns:\n",
    "        run_time_list: (list) collection of run-time info.\n",
    "    '''\n",
    "    start_time = time.time()\n",
    "\n",
    "    # Find modal station\n",
    "    pop_station = df.mode().loc[0]\n",
    "\n",
    "    # Find count of modal station\n",
    "    pop_start_count = df.value_counts().loc[pop_station]\n",
    "\n",
    "    # Save run-time info and print stats\n",
    "    run_time_list.append(\n",
    "        \"Calculating the most popular end station took %s seconds.\"\n",
    "        % round((time.time() - start_time), 4)\n",
    "    )\n",
    "    print(\n",
    "        \"Most popular end station:              {}  (Trips: {:,})\"\n",
    "        .format(pop_station, pop_start_count)\n",
    "        )\n",
    "\n",
    "    pie_chart(pop_start_count, pop_station, trip_count,\n",
    "              \"Trips Ended at Most Popular Station for {}\".format(city.title()))\n",
    "\n",
    "    return run_time_list"
   ]
  },
  {
   "cell_type": "code",
   "execution_count": 96,
   "metadata": {},
   "outputs": [
    {
     "name": "stdout",
     "output_type": "stream",
     "text": [
      "Most popular end station:              Clinton St & Washington Blvd  (Trips: 511)\n"
     ]
    },
    {
     "data": {
      "text/plain": [
       "['Calculating the most popular start hour took 0.003 seconds.',\n",
       " 'Calculating the most popular start station took 0.01 seconds.',\n",
       " 'Calculating the most popular end station took 0.007 seconds.']"
      ]
     },
     "execution_count": 96,
     "metadata": {},
     "output_type": "execute_result"
    },
    {
     "data": {
      "image/png": "[encoded data removed]",
      "text/plain": [
       "<matplotlib.figure.Figure at 0x247ab5d0da0>"
      ]
     },
     "metadata": {},
     "output_type": "display_data"
    }
   ],
   "source": [
    "popular_end_station(df.end_station, city, trip_count, run_time_list)"
   ]
  },
  {
   "cell_type": "code",
   "execution_count": 97,
   "metadata": {},
   "outputs": [],
   "source": [
    "def popular_trip(df, city, trip_count, run_time_list):\n",
    "    '''Prints the most popular trip, and its count, from df.\n",
    "       Appends 'run time info' to a list for future printing.\n",
    "\n",
    "    Args:\n",
    "        df: Pandas DataFrame.\n",
    "        run_time_list: (list).\n",
    "        city: (str) name of city for df.\n",
    "        trip_count: (int) number of rows in df.\n",
    "    Returns:\n",
    "        run_time_list: (list) collection of run-time info.\n",
    "    '''\n",
    "    start_time = time.time()\n",
    "\n",
    "    # Find modal station\n",
    "    pop_station = df.mode().loc[0]\n",
    "\n",
    "    # Find count of modal station\n",
    "    pop_start_count = df.value_counts().loc[pop_station]\n",
    "\n",
    "    # Save run-time info and print stats\n",
    "    run_time_list.append(\n",
    "        \"Calculating the most popular trip took %s seconds.\"\n",
    "        % round((time.time() - start_time), 4)\n",
    "    )\n",
    "    print(\n",
    "        \"Most popular trip:            {}  (Trips: {:,})\"\n",
    "        .format(pop_station, pop_start_count)\n",
    "        )\n",
    "\n",
    "    pie_chart(pop_start_count, pop_station, trip_count,\n",
    "              \"Trips between Most Popular Station Pair for {}\".format(city.title()))\n",
    "\n",
    "    return run_time_list"
   ]
  },
  {
   "cell_type": "code",
   "execution_count": 98,
   "metadata": {},
   "outputs": [
    {
     "name": "stdout",
     "output_type": "stream",
     "text": [
      "Most popular trip:            Columbus Dr & Randolph St to Clinton St & Washington Blvd  (Trips: 33)\n"
     ]
    },
    {
     "data": {
      "text/plain": [
       "['Calculating the most popular start hour took 0.003 seconds.',\n",
       " 'Calculating the most popular start station took 0.01 seconds.',\n",
       " 'Calculating the most popular end station took 0.007 seconds.',\n",
       " 'Calculating the most popular trip took 0.016 seconds.']"
      ]
     },
     "execution_count": 98,
     "metadata": {},
     "output_type": "execute_result"
    },
    {
     "data": {
      "image/png": "[encoded data removed]",
      "text/plain": [
       "<matplotlib.figure.Figure at 0x247ab3acc50>"
      ]
     },
     "metadata": {},
     "output_type": "display_data"
    }
   ],
   "source": [
    "popular_trip(df.trip, city, trip_count, run_time_list)"
   ]
  },
  {
   "cell_type": "code",
   "execution_count": 99,
   "metadata": {},
   "outputs": [],
   "source": [
    "def trip_duration(df, trip_count, run_time_list):\n",
    "    '''Prints the overall and average trip duration, from df.\n",
    "       Appends 'run time info' to a list for future printing.\n",
    "\n",
    "    Args:\n",
    "        df: Pandas DataFrame.\n",
    "        run_time_list: (list).\n",
    "        city: (str) name of city for df.\n",
    "        trip_count: (int) number of rows in df.\n",
    "    Returns:\n",
    "        run_time_list: (list) collection of run-time info.\n",
    "    '''\n",
    "    start_time = time.time()\n",
    "\n",
    "    # Find total trip duration\n",
    "    total_duration = df.sum()\n",
    "    # Calculate average trip duration\n",
    "    average_trip = total_duration/trip_count\n",
    "\n",
    "    # Convert total trip duration to hours\n",
    "    total_duration = round(total_duration/3600, 4)\n",
    "\n",
    "    # Convert average_trip to hr, min, sec format\n",
    "    m, s = divmod(average_trip, 60)\n",
    "    h, m = divmod(m, 60)\n",
    "    # Do not report hours if hours is 0\n",
    "    if h == 0:\n",
    "        average_trip = \"{}min {}sec\".format(int(m), round(s, 2))\n",
    "    else:\n",
    "        average_trip = \"{}hr {}min {}sec\".format(int(h), int(m), round(s, 2))\n",
    "\n",
    "    # Save run-time info and print stats\n",
    "    run_time_list.append(\n",
    "        \"Calculating the trip duration took %s seconds.\"\n",
    "        % round((time.time() - start_time), 4)\n",
    "    )\n",
    "    print('Total trip duration:                   {:,} hours'\n",
    "          .format(total_duration))\n",
    "    print('Average trip duration:                 {}'.format(average_trip))\n",
    "\n",
    "    plt.subplots(figsize=(5, 5))\n",
    "    df.hist(bins=[0, 250, 500, 750, 1000, 1250, 1500, 1750, 2000, 2250])\n",
    "    plt.title(\"Trip Durations for {}\".format(city.title()))\n",
    "    plt.xlabel(\"Trip Duration (in sec)\")\n",
    "        \n",
    "    return run_time_list"
   ]
  },
  {
   "cell_type": "code",
   "execution_count": 100,
   "metadata": {},
   "outputs": [
    {
     "name": "stdout",
     "output_type": "stream",
     "text": [
      "Total trip duration:                   4,370.9922 hours\n",
      "Average trip duration:                 11min 20.34sec\n"
     ]
    },
    {
     "data": {
      "text/plain": [
       "['Calculating the most popular start hour took 0.003 seconds.',\n",
       " 'Calculating the most popular start station took 0.01 seconds.',\n",
       " 'Calculating the most popular end station took 0.007 seconds.',\n",
       " 'Calculating the most popular trip took 0.016 seconds.',\n",
       " 'Calculating the trip duration took 0.001 seconds.']"
      ]
     },
     "execution_count": 100,
     "metadata": {},
     "output_type": "execute_result"
    },
    {
     "data": {
      "image/png": "[encoded data removed]",
      "text/plain": [
       "<matplotlib.figure.Figure at 0x247ab8d0518>"
      ]
     },
     "metadata": {},
     "output_type": "display_data"
    }
   ],
   "source": [
    "trip_duration(df.trip_duration, trip_count, run_time_list)"
   ]
  },
  {
   "cell_type": "markdown",
   "metadata": {},
   "source": [
    "### User Info"
   ]
  },
  {
   "cell_type": "code",
   "execution_count": 101,
   "metadata": {},
   "outputs": [],
   "source": [
    "def user_info(df, city, run_time_list):\n",
    "    '''Prints the count for two or three user types and total number of users, from df.\n",
    "       Appends 'run time info' to a list for future printing.\n",
    "\n",
    "    Args:\n",
    "        df: Pandas DataFrame.\n",
    "        column: (str) column name.\n",
    "        run_time_list: (list).\n",
    "        city: (str) name of city for df.\n",
    "    Returns:\n",
    "        run_time_list: (list) collection of run-time info.\n",
    "    '''\n",
    "    start_time = time.time()\n",
    "\n",
    "    # Find user types and counts\n",
    "    user_count = df['user_type'].value_counts()\n",
    "    user_index = user_count.index\n",
    "\n",
    "    if user_index.nunique() == 2:\n",
    "        user_one_type, user_two_type = user_index\n",
    "        user_one_count = user_count.loc[user_one_type]\n",
    "        user_two_count = user_count.loc[user_two_type]\n",
    "        print('Number of \"{}\" type users:       {:,}\\n'\n",
    "              'Number of \"{}\" type users:     {:,}'\n",
    "              .format(\n",
    "                  user_one_type, user_one_count, user_two_type, user_two_count\n",
    "                  )\n",
    "             )\n",
    "\n",
    "        values = [user_one_count, user_two_count]\n",
    "        labels = [user_one_type, user_two_type]\n",
    "        plt.subplots(figsize=(5, 5))\n",
    "        plt.pie(x=values, labels=labels)\n",
    "        plt.title(\"User Types for {}\".format(city.title()))\n",
    "\n",
    "    if user_index.nunique() == 3:\n",
    "        user_one_type, user_two_type, user_three_type = user_index\n",
    "        user_one_count = user_count.loc[user_one_type]\n",
    "        user_two_count = user_count.loc[user_two_type]\n",
    "        user_three_count = user_count.loc[user_three_type]\n",
    "        print('Number of trips taken by \"{}\" type users:            {:,}\\n'\n",
    "              'Number of trips taken by \"{}\" type users:      {:,}\\n'\n",
    "              'Number of trips taken by \"{}\" type users:     {:,}'\n",
    "              .format(\n",
    "                  user_one_type, user_one_count,\n",
    "                  user_two_type, user_two_count,\n",
    "                  user_three_type, user_three_count\n",
    "                  )\n",
    "             )\n",
    "\n",
    "        values = [user_one_count, user_two_count, user_three_count]\n",
    "        labels = [user_one_type, user_two_type, user_three_type]\n",
    "        plt.subplots(figsize=(5, 5))\n",
    "        plt.pie(x=values, labels=labels)\n",
    "        plt.title(\"Trips Taken by User Types for {}\".format(city.title()))\n",
    "\n",
    "    # Save run-time info and print stats\n",
    "    run_time_list.append(\n",
    "        \"Calculating the user counts took %s seconds.\"\n",
    "        % round((time.time() - start_time), 4)\n",
    "    )\n",
    "\n",
    "    return run_time_list"
   ]
  },
  {
   "cell_type": "code",
   "execution_count": 102,
   "metadata": {},
   "outputs": [
    {
     "name": "stdout",
     "output_type": "stream",
     "text": [
      "Number of \"Subscriber\" type users:       21,883\n",
      "Number of \"Customer\" type users:     1,246\n"
     ]
    },
    {
     "data": {
      "text/plain": [
       "['Calculating the most popular start hour took 0.003 seconds.',\n",
       " 'Calculating the most popular start station took 0.01 seconds.',\n",
       " 'Calculating the most popular end station took 0.007 seconds.',\n",
       " 'Calculating the most popular trip took 0.016 seconds.',\n",
       " 'Calculating the trip duration took 0.001 seconds.',\n",
       " 'Calculating the user counts took 0.0301 seconds.']"
      ]
     },
     "execution_count": 102,
     "metadata": {},
     "output_type": "execute_result"
    },
    {
     "data": {
      "image/png": "[encoded data removed]",
      "text/plain": [
       "<matplotlib.figure.Figure at 0x24797086cf8>"
      ]
     },
     "metadata": {},
     "output_type": "display_data"
    }
   ],
   "source": [
    "user_info(df, city, run_time_list)"
   ]
  },
  {
   "cell_type": "code",
   "execution_count": 103,
   "metadata": {},
   "outputs": [],
   "source": [
    "def gender_info(df, column, city, run_time_list):\n",
    "    '''Checks df for column.\n",
    "       If column exists, prints the count for three gender types in data.\n",
    "       If not, prints a statement indicating this.\n",
    "\n",
    "    Args:\n",
    "        df: Pandas DataFrame.\n",
    "        column: (str) column name.\n",
    "        city: (str) name of city for df.\n",
    "        run_time_list: (list).\n",
    "    Returns:\n",
    "        run_time_list: (list) collection of run-time info.\n",
    "    '''\n",
    "    start_time = time.time()\n",
    "\n",
    "    if column not in df:\n",
    "        print('There is no gender information for this set of data.')\n",
    "    else:\n",
    "        # Fill missing values\n",
    "        df[column].fillna('Unknown', inplace=True)\n",
    "        # Find user types and counts\n",
    "        gender_count = df[column].value_counts()\n",
    "        gender_index = gender_count.index\n",
    "\n",
    "        gender_type_one, gender_type_two, gender_type_three = gender_index\n",
    "        gender_one_count = gender_count.loc[gender_type_one]\n",
    "        gender_two_count = gender_count.loc[gender_type_two]\n",
    "        gender_three_count = gender_count.loc[gender_type_three]\n",
    "\n",
    "        print('Number of trips taken by users of {} gender:     {:,}\\n'\n",
    "              'Number of trips taken by users of {} gender:      {:,}\\n'\n",
    "              'Nubmer of trips taken by users of {} gender:        {:,}'\n",
    "              .format(\n",
    "                  gender_type_one, gender_one_count,\n",
    "                  gender_type_two, gender_two_count,\n",
    "                  gender_type_three, gender_three_count\n",
    "                  )\n",
    "             )\n",
    "\n",
    "        values = [gender_one_count, gender_two_count, gender_three_count]\n",
    "        labels = [gender_type_one, gender_type_two, gender_type_three]\n",
    "        plt.subplots(figsize=(5, 5))\n",
    "        plt.pie(x=values, labels=labels)\n",
    "        plt.title(\"Trips Taken by Genders for {}\".format(city.title()))\n",
    "\n",
    "    run_time_list.append(\n",
    "        'Calculating the user gender counts took %s seconds.' % round((time.time() - start_time), 4)\n",
    "        )\n",
    "\n",
    "    return run_time_list"
   ]
  },
  {
   "cell_type": "code",
   "execution_count": 104,
   "metadata": {},
   "outputs": [
    {
     "name": "stdout",
     "output_type": "stream",
     "text": [
      "Number of trips taken by users of Male gender:     17,448\n",
      "Number of trips taken by users of Female gender:      4,436\n",
      "Nubmer of trips taken by users of Unknown gender:        1,245\n"
     ]
    },
    {
     "data": {
      "text/plain": [
       "['Calculating the most popular start hour took 0.003 seconds.',\n",
       " 'Calculating the most popular start station took 0.01 seconds.',\n",
       " 'Calculating the most popular end station took 0.007 seconds.',\n",
       " 'Calculating the most popular trip took 0.016 seconds.',\n",
       " 'Calculating the trip duration took 0.001 seconds.',\n",
       " 'Calculating the user counts took 0.0301 seconds.',\n",
       " 'Calculating the user gender counts took 0.1334 seconds.']"
      ]
     },
     "execution_count": 104,
     "metadata": {},
     "output_type": "execute_result"
    },
    {
     "data": {
      "image/png": "[encoded data removed]",
      "text/plain": [
       "<matplotlib.figure.Figure at 0x24796286400>"
      ]
     },
     "metadata": {},
     "output_type": "display_data"
    }
   ],
   "source": [
    "gender_info(df, 'gender', city, run_time_list)"
   ]
  },
  {
   "cell_type": "code",
   "execution_count": 105,
   "metadata": {},
   "outputs": [],
   "source": [
    "def birth_year_info(df, column, city, run_time_list):\n",
    "    '''Checks df for column.\n",
    "       If column exists, prints oldest and youngest user, and most common birth year.\n",
    "       If not, prints a statement indicating this.\n",
    "\n",
    "    Args:\n",
    "        df: Pandas DataFrame.\n",
    "        column: (str) column name.\n",
    "        city: (str) name of city for df.\n",
    "        run_time_list: (list).\n",
    "    Returns:\n",
    "        run_time_list: (list) collection of run-time info.\n",
    "    '''\n",
    "    start_time = time.time()\n",
    "\n",
    "    if column not in df:\n",
    "        print('There is no birth year information for this set of data.')\n",
    "    else:\n",
    "        # Drop missing values\n",
    "        df[column].dropna(inplace=True)\n",
    "\n",
    "        # Find youngest user with 'reality' check\n",
    "        young = df[column].max().astype(int)\n",
    "        if (2016 - young) < 5:\n",
    "            alt_young = pd.Series(df.birth_year.unique()).nlargest(n=2).iloc[1].astype(int)\n",
    "            print('Birth year of youngest user:           {} '\n",
    "                  '\\n(Age: {} - This result may be due to user data entry error. '\n",
    "                  'The next youngest birth year is {})'\n",
    "                  .format(young, 2016 - young, alt_young))\n",
    "        else:\n",
    "            print('Birth year of youngest user:           {} (Age: {})\\n'\n",
    "                  .format(young, 2016 - young))\n",
    "\n",
    "        # Find youngest user with 'reality' check\n",
    "        old = df[column].min().astype(int)\n",
    "        if (2016 - old) > 90:\n",
    "            alt_old = pd.Series(df.birth_year.unique()).nsmallest(n=2).iloc[1].astype(int)\n",
    "            print('Birth year of oldest user:           {} '\n",
    "                  '\\n(Age: {} - This result may be due to user data entry error. '\n",
    "                  'The next oldest birth year is {})'\n",
    "                  .format(old, 2016 - old, alt_old))\n",
    "        else:\n",
    "            print('Birth year of youngest user:           {} (Age: {})\\n'\n",
    "                  .format(old, 2016 - old))\n",
    "\n",
    "        plt.subplots(figsize=(5, 5))\n",
    "        df[column].hist()\n",
    "        plt.title(\"User Birth Years for {}\".format(city.title()))\n",
    "        plt.xlabel(\"Year\")\n",
    "\n",
    "        # Find most common birth year\n",
    "        pop_year = df[column].mode().loc[0].astype(int)\n",
    "\n",
    "        # Find count of modal birth year\n",
    "        pop_year_count = df[column].value_counts().loc[pop_year]\n",
    "\n",
    "        print('Most frequent birth year:              {}  (Users: {:,})'\n",
    "              .format(pop_year, pop_year_count))\n",
    "\n",
    "    run_time_list.append(\n",
    "        'Calculating the user birth year counts took %s seconds.'\n",
    "        % round((time.time() - start_time), 4)\n",
    "    )\n",
    "    return run_time_list"
   ]
  },
  {
   "cell_type": "code",
   "execution_count": 106,
   "metadata": {},
   "outputs": [
    {
     "name": "stdout",
     "output_type": "stream",
     "text": [
      "Birth year of youngest user:           2000 (Age: 16)\n",
      "\n",
      "Birth year of oldest user:           1899 \n",
      "(Age: 117 - This result may be due to user data entry error. The next oldest birth year is 1900)\n",
      "Most frequent birth year:              1989  (Users: 1,333)\n"
     ]
    },
    {
     "data": {
      "text/plain": [
       "['Calculating the most popular start hour took 0.003 seconds.',\n",
       " 'Calculating the most popular start station took 0.01 seconds.',\n",
       " 'Calculating the most popular end station took 0.007 seconds.',\n",
       " 'Calculating the most popular trip took 0.016 seconds.',\n",
       " 'Calculating the trip duration took 0.001 seconds.',\n",
       " 'Calculating the user counts took 0.0301 seconds.',\n",
       " 'Calculating the user gender counts took 0.1334 seconds.',\n",
       " 'Calculating the user birth year counts took 0.0692 seconds.']"
      ]
     },
     "execution_count": 106,
     "metadata": {},
     "output_type": "execute_result"
    },
    {
     "data": {
      "image/png": "[encoded data removed]",
      "text/plain": [
       "<matplotlib.figure.Figure at 0x2479627eba8>"
      ]
     },
     "metadata": {},
     "output_type": "display_data"
    }
   ],
   "source": [
    "birth_year_info(df, 'birth_year', city, run_time_list)"
   ]
  },
  {
   "cell_type": "markdown",
   "metadata": {},
   "source": [
    "## Step 6 - Display Raw Data"
   ]
  },
  {
   "cell_type": "code",
   "execution_count": 77,
   "metadata": {},
   "outputs": [],
   "source": [
    "def display_data(df):\n",
    "    '''Provides the user the option of viewing five lines of data, repeating this upon request\n",
    "       until the user responds with 'no'.\n",
    "\n",
    "    Args:\n",
    "        Pandas DataFrame.\n",
    "    Returns:\n",
    "        none.\n",
    "    '''\n",
    "    i = 0\n",
    "    show_data = input('\\nWould you like to see five lines of raw data? Type \\'yes\\' or \\'no\\'.\\n')\n",
    "    while show_data.lower() == 'yes':\n",
    "        print(df.iloc[i:i + 5])\n",
    "        i += 5\n",
    "        show_data = input(\n",
    "            '\\nWould you like to see five more lines of raw data? Type \\'yes\\' or \\'no\\'.\\n'\n",
    "            )"
   ]
  },
  {
   "cell_type": "code",
   "execution_count": 78,
   "metadata": {},
   "outputs": [
    {
     "name": "stdout",
     "output_type": "stream",
     "text": [
      "\n",
      "Would you like to see five lines of raw data? Type 'yes' or 'no'.\n",
      "yes\n",
      "                start_time             end_time  trip_duration  \\\n",
      "308253 2017-03-07 00:02:27  2017-03-07 00:13:03            636   \n",
      "308254 2017-03-07 00:05:01  2017-03-07 00:11:23            382   \n",
      "308255 2017-03-07 00:05:16  2017-03-07 00:14:07            531   \n",
      "308256 2017-03-07 00:05:56  2017-03-07 00:11:52            356   \n",
      "308257 2017-03-07 00:06:18  2017-03-07 00:11:37            319   \n",
      "\n",
      "                       start_station                   end_station  \\\n",
      "308253        Michigan Ave & Lake St    Indiana Ave & Roosevelt Rd   \n",
      "308254           Ellis Ave & 55th St  Cornell Ave & Hyde Park Blvd   \n",
      "308255             Adler Planetarium     Wabash Ave & Roosevelt Rd   \n",
      "308256            Clark St & Lake St         Canal St & Madison St   \n",
      "308257  Clinton St & Washington Blvd     Milwaukee Ave & Grand Ave   \n",
      "\n",
      "         user_type  gender  birth_year  weekday  \\\n",
      "308253  Subscriber    Male      1980.0        1   \n",
      "308254  Subscriber    Male      1989.0        1   \n",
      "308255  Subscriber  Female      1981.0        1   \n",
      "308256  Subscriber    Male      1989.0        1   \n",
      "308257  Subscriber    Male      1977.0        1   \n",
      "\n",
      "                                                     trip  \n",
      "308253  Michigan Ave & Lake St to Indiana Ave & Roosev...  \n",
      "308254  Ellis Ave & 55th St to Cornell Ave & Hyde Park...  \n",
      "308255     Adler Planetarium to Wabash Ave & Roosevelt Rd  \n",
      "308256        Clark St & Lake St to Canal St & Madison St  \n",
      "308257  Clinton St & Washington Blvd to Milwaukee Ave ...  \n",
      "\n",
      "Would you like to see five more lines of raw data? Type 'yes' or 'no'.\n",
      "yes\n",
      "                start_time             end_time  trip_duration  \\\n",
      "308258 2017-03-07 00:06:59  2017-03-07 00:12:52            353   \n",
      "308259 2017-03-07 00:13:58  2017-03-07 00:27:47            829   \n",
      "308260 2017-03-07 00:16:47  2017-03-07 00:59:37           2570   \n",
      "308261 2017-03-07 00:17:00  2017-03-07 00:20:46            226   \n",
      "308262 2017-03-07 00:18:42  2017-03-07 00:20:49            127   \n",
      "\n",
      "                          start_station                  end_station  \\\n",
      "308258        Clinton St & Roosevelt Rd    Wabash Ave & Roosevelt Rd   \n",
      "308259             Canal St & Taylor St         Paulina St & 18th St   \n",
      "308260        Columbus Dr & Randolph St  Racine Ave & Wrightwood Ave   \n",
      "308261  Lakefront Trail & Bryn Mawr Ave         Broadway & Ridge Ave   \n",
      "308262               Clark St & Lake St         State St & Kinzie St   \n",
      "\n",
      "         user_type  gender  birth_year  weekday  \\\n",
      "308258  Subscriber    Male      1991.0        1   \n",
      "308259  Subscriber  Female      1982.0        1   \n",
      "308260  Subscriber  Female      1977.0        1   \n",
      "308261  Subscriber    Male      1966.0        1   \n",
      "308262  Subscriber    Male      1990.0        1   \n",
      "\n",
      "                                                     trip  \n",
      "308258  Clinton St & Roosevelt Rd to Wabash Ave & Roos...  \n",
      "308259       Canal St & Taylor St to Paulina St & 18th St  \n",
      "308260  Columbus Dr & Randolph St to Racine Ave & Wrig...  \n",
      "308261  Lakefront Trail & Bryn Mawr Ave to Broadway & ...  \n",
      "308262         Clark St & Lake St to State St & Kinzie St  \n",
      "\n",
      "Would you like to see five more lines of raw data? Type 'yes' or 'no'.\n",
      "no\n"
     ]
    }
   ],
   "source": [
    "display_data(df)"
   ]
  },
  {
   "cell_type": "markdown",
   "metadata": {},
   "source": [
    "As can be seen above, the code will continue to display sequential lines of the dataframe, fives lines at a time, until the user says no. \n",
    "\n",
    "The code would then ask the user if they would like to restart the process:"
   ]
  },
  {
   "cell_type": "code",
   "execution_count": null,
   "metadata": {},
   "outputs": [],
   "source": [
    "# Restart?\n",
    "    restart = input('\\nWould you like to restart? Type \\'yes\\' or \\'no\\'.\\n')\n",
    "    if restart.lower() == 'yes':\n",
    "        main()"
   ]
  }
 ],
 "metadata": {
  "kernelspec": {
   "display_name": "Python [default]",
   "language": "python",
   "name": "python3"
  },
  "language_info": {
   "codemirror_mode": {
    "name": "ipython",
    "version": 3
   },
   "file_extension": ".py",
   "mimetype": "text/x-python",
   "name": "python",
   "nbconvert_exporter": "python",
   "pygments_lexer": "ipython3",
   "version": "3.6.4"
  }
 },
 "nbformat": 4,
 "nbformat_minor": 2
}
